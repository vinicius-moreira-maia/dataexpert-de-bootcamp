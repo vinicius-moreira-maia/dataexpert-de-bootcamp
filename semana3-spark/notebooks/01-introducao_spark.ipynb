{
 "cells": [
  {
   "cell_type": "code",
   "execution_count": 1,
   "id": "81cca085-dba2-42eb-a13b-fa64b6e86583",
   "metadata": {},
   "outputs": [
    {
     "name": "stderr",
     "output_type": "stream",
     "text": [
      "25/08/06 18:29:12 WARN SparkSession: Using an existing Spark session; only runtime SQL configurations will take effect.\n",
      "25/08/06 18:29:21 WARN Column: Constructing trivially true equals predicate, '1 = 1'. Perhaps you need to use aliases.\n"
     ]
    },
    {
     "name": "stdout",
     "output_type": "stream",
     "text": [
      "+----------+---------+--------+-------------------+---+--------------------+-------------------+-----------+---------+--------+--------------------+---+--------------------+-------------------+\n",
      "|   user_id|device_id|referrer|               host|url|          event_time|         event_date|    user_id|device_id|referrer|                host|url|          event_time|         event_date|\n",
      "+----------+---------+--------+-------------------+---+--------------------+-------------------+-----------+---------+--------+--------------------+---+--------------------+-------------------+\n",
      "|1037710827|532630305|    NULL|www.zachwilson.tech|  /|2021-03-08 17:27:...|2021-03-08 00:00:00| 1037710827|532630305|    NULL| www.zachwilson.tech|  /|2021-03-08 17:27:...|2021-03-08 00:00:00|\n",
      "|1037710827|532630305|    NULL|www.zachwilson.tech|  /|2021-03-08 17:27:...|2021-03-08 00:00:00|  925588856|532630305|    NULL|    www.eczachly.com|  /|2021-05-10 11:26:...|2021-05-10 00:00:00|\n",
      "|1037710827|532630305|    NULL|www.zachwilson.tech|  /|2021-03-08 17:27:...|2021-03-08 00:00:00|-1180485268|532630305|    NULL|admin.zachwilson....|  /|2021-02-17 16:19:...|2021-02-17 00:00:00|\n",
      "+----------+---------+--------+-------------------+---+--------------------+-------------------+-----------+---------+--------+--------------------+---+--------------------+-------------------+\n",
      "only showing top 3 rows\n",
      "\n"
     ]
    }
   ],
   "source": [
    "from pyspark.sql import SparkSession\n",
    "\n",
    "# a função 'expr' permite escrever SQL diretamente\n",
    "# 'col' permite referenciar colunas de forma programática\n",
    "from pyspark.sql.functions import expr, col, lit\n",
    "\n",
    "# 'SparkSession' é a entrada principal para trabalhar com DataFrames no PySpark\n",
    "# 'builder.appName(\"Jupyter\")' define o nome da aplicação Spark\n",
    "# .getOrCreate'()' cria a sessão se ainda não existir, caso contrário reutiliza a existente\n",
    "spark = SparkSession.builder.appName(\"Jupyter\").getOrCreate()\n",
    "\n",
    "# lendo o csv com a adição de uma nova coluna, que usa a coluna 'event_time' e trunca o resultado para mostrar apenas o dia\n",
    "# a pasta 'data' é um volume, e é visível apenas para o serviço 'spark-iceberg'\n",
    "events = spark.read.option(\"header\", \"true\") \\\n",
    "    .csv(\"/home/iceberg/data/events.csv\") \\\n",
    "    .withColumn(\"event_date\", expr(\"DATE_TRUNC('day', event_time)\"))\n",
    "\n",
    "# events.show()\n",
    "# events.count() # 404.814 linhas\n",
    "\n",
    "# 'lit' cria uma coluna literal (com valor 1, no caso)\n",
    "# aqui é feito um join do dataframe com ele mesmo, praticamente sem condição de junção\n",
    "# na prática 'lit(1) == lit(1)' gera um produto cartesiano (cross join)\n",
    "# collect() traz todos os dados do resultado para o driver\n",
    "# isso aqui gera out of memory!\n",
    "# events.join(events, lit(1) == lit(1)).collect()\n",
    "\n",
    "# Nunca fazer collect() do dataset inteiro! (apenas se forem dados agregados) Preferir 'take()' ou 'show()'\n",
    "# 'show()' apenas exibe os dados formatados em tabelas, não retorna nada\n",
    "# 'take()' retorna a quantidade de linhas passada como parâmetro na forma de lista de objetos 'Row'\n",
    "# events.join(events, lit(1) == lit(1)).take(3)\n",
    "events.join(events, lit(1) == lit(1)).show(3)\n",
    "\n",
    "# Os 3 métodos (take, show e collect) não são lazy! Eles disparam a execução."
   ]
  },
  {
   "cell_type": "code",
   "execution_count": 2,
   "id": "dce068df-3e21-429a-8716-abdd13e9406c",
   "metadata": {},
   "outputs": [
    {
     "name": "stdout",
     "output_type": "stream",
     "text": [
      "== Physical Plan ==\n",
      "AdaptiveSparkPlan isFinalPlan=false\n",
      "+- Project [user_id#17, device_id#18, referrer#19, host#20, url#21, cast(event_time#22 as timestamp) AS event_time#143, event_date#29]\n",
      "   +- Sort [event_date#29 ASC NULLS FIRST, host#20 ASC NULLS FIRST], false, 0\n",
      "      +- Exchange hashpartitioning(event_date#29, 10), REPARTITION_BY_NUM, [plan_id=76]\n",
      "         +- Project [user_id#17, device_id#18, referrer#19, host#20, url#21, event_time#22, date_trunc(day, cast(event_time#22 as timestamp), Some(Etc/UTC)) AS event_date#29]\n",
      "            +- FileScan csv [user_id#17,device_id#18,referrer#19,host#20,url#21,event_time#22] Batched: false, DataFilters: [], Format: CSV, Location: InMemoryFileIndex(1 paths)[file:/home/iceberg/data/events.csv], PartitionFilters: [], PushedFilters: [], ReadSchema: struct<user_id:string,device_id:string,referrer:string,host:string,url:string,event_time:string>\n",
      "\n",
      "\n",
      "== Physical Plan ==\n",
      "AdaptiveSparkPlan isFinalPlan=false\n",
      "+- Project [user_id#17, device_id#18, referrer#19, host#20, url#21, cast(event_time#22 as timestamp) AS event_time#151, event_date#29]\n",
      "   +- Sort [event_date#29 ASC NULLS FIRST, host#20 ASC NULLS FIRST], true, 0\n",
      "      +- Exchange rangepartitioning(event_date#29 ASC NULLS FIRST, host#20 ASC NULLS FIRST, 200), ENSURE_REQUIREMENTS, [plan_id=98]\n",
      "         +- Exchange hashpartitioning(event_date#29, 10), REPARTITION_BY_NUM, [plan_id=94]\n",
      "            +- Project [user_id#17, device_id#18, referrer#19, host#20, url#21, event_time#22, date_trunc(day, cast(event_time#22 as timestamp), Some(Etc/UTC)) AS event_date#29]\n",
      "               +- FileScan csv [user_id#17,device_id#18,referrer#19,host#20,url#21,event_time#22] Batched: false, DataFilters: [], Format: CSV, Location: InMemoryFileIndex(1 paths)[file:/home/iceberg/data/events.csv], PartitionFilters: [], PushedFilters: [], ReadSchema: struct<user_id:string,device_id:string,referrer:string,host:string,url:string,event_time:string>\n",
      "\n",
      "\n"
     ]
    }
   ],
   "source": [
    "# Seja lá quantas partições existirem nesse dataframe, eu vou particioná-lo em 10\n",
    "# A partição é a partir da coluna de data (que foi truncada a partir de outra)\n",
    "# notar o uso de 'col' ^^\n",
    "\n",
    "# 'sortWithinPartitions' ordena cada partição localmente\n",
    "sorted = events.repartition(10, col(\"event_date\")) \\\n",
    "    .sortWithinPartitions(col(\"event_date\"), col(\"host\")) \\\n",
    "    .withColumn(\"event_time\", col(\"event_time\").cast(\"timestamp\")) \n",
    "\n",
    "# 'sort' ordena as partições de forma global\n",
    "sortedTwo = events.repartition(10, col(\"event_date\")) \\\n",
    "    .sort(col(\"event_date\"), col(\"host\")) \\\n",
    "    .withColumn(\"event_time\", col(\"event_time\").cast(\"timestamp\")) \n",
    "\n",
    "#sorted.show()\n",
    "#sortedTwo.show()\n",
    "\n",
    "# Ler a parte mais indentada primeiro.\n",
    "# Entender 'Exchange' como shuffle!\n",
    "# no 'sortWithinPartitions' há apenas 1 shuffle\n",
    "# no 'sort' há 2\n",
    "sorted.explain()\n",
    "sortedTwo.explain()\n"
   ]
  },
  {
   "cell_type": "code",
   "execution_count": 3,
   "id": "5cc0bb63-2ef0-4a53-af25-881fbd785d55",
   "metadata": {},
   "outputs": [
    {
     "name": "stdout",
     "output_type": "stream",
     "text": [
      "== Physical Plan ==\n",
      "*(1) Project [user_id#17, device_id#18, referrer#19, host#20, url#21, cast(event_time#22 as timestamp) AS event_time#159, event_date#29]\n",
      "+- *(1) Sort [event_date#29 ASC NULLS FIRST, host#20 ASC NULLS FIRST], false, 0\n",
      "   +- *(1) Project [user_id#17, device_id#18, referrer#19, host#20, url#21, event_time#22, date_trunc(day, cast(event_time#22 as timestamp), Some(Etc/UTC)) AS event_date#29]\n",
      "      +- FileScan csv [user_id#17,device_id#18,referrer#19,host#20,url#21,event_time#22] Batched: false, DataFilters: [], Format: CSV, Location: InMemoryFileIndex(1 paths)[file:/home/iceberg/data/events.csv], PartitionFilters: [], PushedFilters: [], ReadSchema: struct<user_id:string,device_id:string,referrer:string,host:string,url:string,event_time:string>\n",
      "\n",
      "\n",
      "== Physical Plan ==\n",
      "AdaptiveSparkPlan isFinalPlan=false\n",
      "+- Project [user_id#17, device_id#18, referrer#19, host#20, url#21, cast(event_time#22 as timestamp) AS event_time#167, event_date#29]\n",
      "   +- Sort [event_date#29 ASC NULLS FIRST, host#20 ASC NULLS FIRST], true, 0\n",
      "      +- Exchange rangepartitioning(event_date#29 ASC NULLS FIRST, host#20 ASC NULLS FIRST, 200), ENSURE_REQUIREMENTS, [plan_id=133]\n",
      "         +- Project [user_id#17, device_id#18, referrer#19, host#20, url#21, event_time#22, date_trunc(day, cast(event_time#22 as timestamp), Some(Etc/UTC)) AS event_date#29]\n",
      "            +- FileScan csv [user_id#17,device_id#18,referrer#19,host#20,url#21,event_time#22] Batched: false, DataFilters: [], Format: CSV, Location: InMemoryFileIndex(1 paths)[file:/home/iceberg/data/events.csv], PartitionFilters: [], PushedFilters: [], ReadSchema: struct<user_id:string,device_id:string,referrer:string,host:string,url:string,event_time:string>\n",
      "\n",
      "\n"
     ]
    }
   ],
   "source": [
    "# se eu tiro 'repartition' eu elimino um shuffle\n",
    "\n",
    "# 'sortWithinPartitions' ordena cada partição localmente\n",
    "sorted = events.sortWithinPartitions(col(\"event_date\"), col(\"host\")) \\\n",
    "    .withColumn(\"event_time\", col(\"event_time\").cast(\"timestamp\")) \n",
    "\n",
    "# 'sort' ordena as partições de forma global\n",
    "sortedTwo = events.sort(col(\"event_date\"), col(\"host\")) \\\n",
    "    .withColumn(\"event_time\", col(\"event_time\").cast(\"timestamp\")) \n",
    "\n",
    "# .explain() NÃO dispara execução (é lazy)\n",
    "\n",
    "# aqui não haverá shuffle, pois a repartição é o que causava shuffle\n",
    "sorted.explain()\n",
    "\n",
    "# aqui ainda ocorre shuffle, pois o método usado já gera shuffle\n",
    "# para datasets grandes essa ordenação é bem problemática, pois TODOS os dados passam por apenas um executor (única forma de garantir ordenação global)\n",
    "sortedTwo.explain()\n"
   ]
  },
  {
   "cell_type": "code",
   "execution_count": null,
   "id": "a7f18319-0e4a-4417-af78-1e9e3756ec4c",
   "metadata": {},
   "outputs": [],
   "source": [
    "# esse 'database' é refletido como uma pasta chamada 'bootcamp' lá no minio"
   ]
  },
  {
   "cell_type": "code",
   "execution_count": 13,
   "id": "d800dca7-2737-4192-b5c0-c1806c105e15",
   "metadata": {},
   "outputs": [
    {
     "data": {
      "text/html": [
       "<table>\n",
       "    <thead>\n",
       "        <tr>\n",
       "        </tr>\n",
       "    </thead>\n",
       "    <tbody>\n",
       "    </tbody>\n",
       "</table>"
      ],
      "text/plain": [
       "++\n",
       "||\n",
       "++\n",
       "++"
      ]
     },
     "execution_count": 13,
     "metadata": {},
     "output_type": "execute_result"
    }
   ],
   "source": [
    "%%sql\n",
    "\n",
    "CREATE DATABASE IF NOT EXISTS bootcamp"
   ]
  },
  {
   "cell_type": "code",
   "execution_count": 14,
   "id": "e83cd813-d5c0-4d67-8285-849b882b8bfa",
   "metadata": {},
   "outputs": [
    {
     "data": {
      "text/html": [
       "<table>\n",
       "    <thead>\n",
       "        <tr>\n",
       "        </tr>\n",
       "    </thead>\n",
       "    <tbody>\n",
       "    </tbody>\n",
       "</table>"
      ],
      "text/plain": [
       "++\n",
       "||\n",
       "++\n",
       "++"
      ]
     },
     "execution_count": 14,
     "metadata": {},
     "output_type": "execute_result"
    }
   ],
   "source": [
    "%%sql\n",
    "\n",
    "DROP TABLE IF EXISTS bootcamp.events"
   ]
  },
  {
   "cell_type": "code",
   "execution_count": 15,
   "id": "b403139c-f342-426a-a6de-81cd86d1cd73",
   "metadata": {},
   "outputs": [
    {
     "data": {
      "text/html": [
       "<table>\n",
       "    <thead>\n",
       "        <tr>\n",
       "        </tr>\n",
       "    </thead>\n",
       "    <tbody>\n",
       "    </tbody>\n",
       "</table>"
      ],
      "text/plain": [
       "++\n",
       "||\n",
       "++\n",
       "++"
      ]
     },
     "execution_count": 15,
     "metadata": {},
     "output_type": "execute_result"
    }
   ],
   "source": [
    "%%sql\n",
    "\n",
    "DROP TABLE IF EXISTS bootcamp.events_sorted"
   ]
  },
  {
   "cell_type": "code",
   "execution_count": null,
   "id": "0f7547e1-afb8-445e-9fbc-93d26e24cfce",
   "metadata": {},
   "outputs": [],
   "source": [
    "# Criando tabelas Iceberg"
   ]
  },
  {
   "cell_type": "code",
   "execution_count": 16,
   "id": "d1b197a9-1b63-4130-acbe-01418eede0e5",
   "metadata": {
    "scrolled": true
   },
   "outputs": [
    {
     "data": {
      "text/html": [
       "<table>\n",
       "    <thead>\n",
       "        <tr>\n",
       "        </tr>\n",
       "    </thead>\n",
       "    <tbody>\n",
       "    </tbody>\n",
       "</table>"
      ],
      "text/plain": [
       "++\n",
       "||\n",
       "++\n",
       "++"
      ]
     },
     "execution_count": 16,
     "metadata": {},
     "output_type": "execute_result"
    }
   ],
   "source": [
    "%%sql\n",
    "\n",
    "CREATE TABLE IF NOT EXISTS bootcamp.events (\n",
    "    url STRING,\n",
    "    referrer STRING,\n",
    "    browser_family STRING,\n",
    "    os_family STRING,\n",
    "    device_family STRING,\n",
    "    host STRING,\n",
    "    event_time TIMESTAMP,\n",
    "    event_date DATE\n",
    ")\n",
    "USING iceberg\n",
    "PARTITIONED BY (years(event_date));\n"
   ]
  },
  {
   "cell_type": "code",
   "execution_count": 18,
   "id": "c40b143f-295e-4875-bd7f-12409312b800",
   "metadata": {
    "scrolled": true
   },
   "outputs": [
    {
     "data": {
      "text/html": [
       "<table>\n",
       "    <thead>\n",
       "        <tr>\n",
       "        </tr>\n",
       "    </thead>\n",
       "    <tbody>\n",
       "    </tbody>\n",
       "</table>"
      ],
      "text/plain": [
       "++\n",
       "||\n",
       "++\n",
       "++"
      ]
     },
     "execution_count": 18,
     "metadata": {},
     "output_type": "execute_result"
    }
   ],
   "source": [
    "%%sql\n",
    "\n",
    "\n",
    "CREATE TABLE IF NOT EXISTS bootcamp.events_sorted (\n",
    "    url STRING,\n",
    "    referrer STRING,\n",
    "    browser_family STRING,\n",
    "    os_family STRING,\n",
    "    device_family STRING,\n",
    "    host STRING,\n",
    "    event_time TIMESTAMP,\n",
    "    event_date DATE\n",
    ")\n",
    "USING iceberg\n",
    "PARTITIONED BY (years(event_date));"
   ]
  },
  {
   "cell_type": "code",
   "execution_count": 17,
   "id": "00c86e79-a911-464c-ad58-acc92859dcc6",
   "metadata": {
    "scrolled": true
   },
   "outputs": [
    {
     "data": {
      "text/html": [
       "<table>\n",
       "    <thead>\n",
       "        <tr>\n",
       "        </tr>\n",
       "    </thead>\n",
       "    <tbody>\n",
       "    </tbody>\n",
       "</table>"
      ],
      "text/plain": [
       "++\n",
       "||\n",
       "++\n",
       "++"
      ]
     },
     "execution_count": 17,
     "metadata": {},
     "output_type": "execute_result"
    }
   ],
   "source": [
    "%%sql\n",
    "\n",
    "\n",
    "CREATE TABLE IF NOT EXISTS bootcamp.events_unsorted (\n",
    "    url STRING,\n",
    "    referrer STRING,\n",
    "    browser_family STRING,\n",
    "    os_family STRING,\n",
    "    device_family STRING,\n",
    "    host STRING,\n",
    "    event_time TIMESTAMP,\n",
    "    event_date DATE\n",
    ")\n",
    "USING iceberg\n",
    "PARTITIONED BY (year(event_date));"
   ]
  },
  {
   "cell_type": "code",
   "execution_count": 19,
   "id": "2c1254bc-9ecf-4c86-bfd9-de81ecfbb78b",
   "metadata": {},
   "outputs": [
    {
     "name": "stderr",
     "output_type": "stream",
     "text": [
      "                                                                                "
     ]
    }
   ],
   "source": [
    "start_df = events.repartition(4, col(\"event_date\")) \\\n",
    "                 .withColumn(\"event_time\", col(\"event_time\").cast(\"timestamp\"))\n",
    "\n",
    "# ordenação por partição\n",
    "first_sort_df = start_df.sortWithinPartitions(col(\"event_date\"), col(\"host\"))\n",
    "# first_sort_df = start_df.sortWithinPartitions(col(\"host\"), col(\"event_date\"))\n",
    "\n",
    "# salvando os dados nas tabelas iceberg do bucket do MinIO\n",
    "# 'bootcamp' é a pasta/database no bucket\n",
    "first_sort_df.write.mode(\"overwrite\").saveAsTable(\"bootcamp.events_sorted\")\n",
    "start_df.write.mode(\"overwrite\").saveAsTable(\"bootcamp.events_unsorted\")"
   ]
  },
  {
   "cell_type": "code",
   "execution_count": null,
   "id": "a19f441a-5e8a-4def-9631-3e84058ba692",
   "metadata": {},
   "outputs": [],
   "source": [
    "# na ordenação, antes de escrever os dados, é importante ordenar começando da coluna de menor cardinalidade, \n",
    "# pois isso vai ajudar na compressão do Parquet\n",
    "# principalmente na etapa de Run-Length Encoding (RLE) -> uma das etapas de compressão de Parquet's\n",
    "# mas, de forma geral, testar a ordenação de formas diferentes para ver o quanto está comprimindo ou não"
   ]
  },
  {
   "cell_type": "code",
   "execution_count": 20,
   "id": "c3a2b2aa-b6bc-4cc9-875d-d6fe60bbc04e",
   "metadata": {},
   "outputs": [
    {
     "name": "stderr",
     "output_type": "stream",
     "text": [
      "                                                                                "
     ]
    },
    {
     "data": {
      "text/html": [
       "<table>\n",
       "    <thead>\n",
       "        <tr>\n",
       "            <th>count(DISTINCT event_date)</th>\n",
       "            <th>count(DISTINCT host)</th>\n",
       "        </tr>\n",
       "    </thead>\n",
       "    <tbody>\n",
       "        <tr>\n",
       "            <td>931</td>\n",
       "            <td>261</td>\n",
       "        </tr>\n",
       "    </tbody>\n",
       "</table>"
      ],
      "text/plain": [
       "+----------------------------+----------------------+\n",
       "| count(DISTINCT event_date) | count(DISTINCT host) |\n",
       "+----------------------------+----------------------+\n",
       "|                        931 |                  261 |\n",
       "+----------------------------+----------------------+"
      ]
     },
     "execution_count": 20,
     "metadata": {},
     "output_type": "execute_result"
    }
   ],
   "source": [
    "%%sql\n",
    "select count(distinct event_date), count(distinct host) from bootcamp.events_sorted;"
   ]
  },
  {
   "cell_type": "code",
   "execution_count": null,
   "id": "91b46a7a-8358-4ed1-b03f-f81ae584a97a",
   "metadata": {},
   "outputs": [],
   "source": [
    "'''\n",
    "'demo' é uma tabela especial gerada automaticamente pelo catálogo do engine (Apache Spark + Iceberg).\n",
    "'files' também é uma dessas tabelas especiais, que guarda metadados dos arquivos/partições geradas\n",
    "'''"
   ]
  },
  {
   "cell_type": "code",
   "execution_count": 21,
   "id": "9d1251cf-d0f8-4f71-966f-38486fd85f82",
   "metadata": {},
   "outputs": [
    {
     "data": {
      "text/html": [
       "<table>\n",
       "    <thead>\n",
       "        <tr>\n",
       "            <th>content</th>\n",
       "            <th>file_path</th>\n",
       "            <th>file_format</th>\n",
       "            <th>spec_id</th>\n",
       "            <th>partition</th>\n",
       "            <th>record_count</th>\n",
       "            <th>file_size_in_bytes</th>\n",
       "            <th>column_sizes</th>\n",
       "            <th>value_counts</th>\n",
       "            <th>null_value_counts</th>\n",
       "            <th>nan_value_counts</th>\n",
       "            <th>lower_bounds</th>\n",
       "            <th>upper_bounds</th>\n",
       "            <th>key_metadata</th>\n",
       "            <th>split_offsets</th>\n",
       "            <th>equality_ids</th>\n",
       "            <th>sort_order_id</th>\n",
       "            <th>referenced_data_file</th>\n",
       "            <th>content_offset</th>\n",
       "            <th>content_size_in_bytes</th>\n",
       "            <th>readable_metrics</th>\n",
       "        </tr>\n",
       "    </thead>\n",
       "    <tbody>\n",
       "        <tr>\n",
       "            <td>0</td>\n",
       "            <td>s3://warehouse/bootcamp/events_sorted/data/00000-10-94aba8e8-72f1-4864-97e8-9887c5dfdf65-0-00001.parquet</td>\n",
       "            <td>PARQUET</td>\n",
       "            <td>1</td>\n",
       "            <td>Row(event_date_year=None)</td>\n",
       "            <td>89391</td>\n",
       "            <td>998667</td>\n",
       "            <td>{1: 111534, 2: 68783, 6: 2692, 7: 390807, 8: 2293, 9: 315050, 10: 103875}</td>\n",
       "            <td>{1: 89391, 2: 89391, 6: 89391, 7: 89391, 8: 89391, 9: 89391, 10: 89391}</td>\n",
       "            <td>{1: 0, 2: 46359, 6: 0, 7: 0, 8: 0, 9: 1, 10: 0}</td>\n",
       "            <td>{}</td>\n",
       "            <td>{1: bytearray(b&#x27;/&#x27;), 2: bytearray(b&#x27;52.20.78.240&#x27;), 6: bytearray(b&#x27;aashish.techcrea&#x27;), 7: bytearray(b&#x27; \\xba\\xe7\\xb8\\xa8\\xb8\\x05\\x00&#x27;), 8: bytearray(b&#x27;\\x00\\xa0&amp;\\xb4\\xa8\\xb8\\x05\\x00&#x27;), 9: bytearray(b&#x27;-1000095488&#x27;), 10: bytearray(b&#x27;-100210680&#x27;)}</td>\n",
       "            <td>{1: bytearray(b&#x27;/zzageqnf.php?Fp&#x27;), 2: bytearray(b&#x27;zachwilson.tech&#x27;), 6: bytearray(b&#x27;zachwilson.techd&#x27;), 7: bytearray(b&#x27;\\xe8\\xb0\\x1b\\x8ec\\x03\\x06\\x00&#x27;), 8: bytearray(b&#x27;\\x00\\xe0dqO\\x03\\x06\\x00&#x27;), 9: bytearray(b&#x27;999884938&#x27;), 10: bytearray(b&#x27;999535123&#x27;)}</td>\n",
       "            <td>None</td>\n",
       "            <td>[4]</td>\n",
       "            <td>None</td>\n",
       "            <td>0</td>\n",
       "            <td>None</td>\n",
       "            <td>None</td>\n",
       "            <td>None</td>\n",
       "            <td>Row(device_id=Row(column_size=103875, value_count=89391, null_value_count=0, nan_value_count=None, lower_bound=&#x27;-100210680&#x27;, upper_bound=&#x27;999535123&#x27;), event_date=Row(column_size=2293, value_count=89391, null_value_count=0, nan_value_count=None, lower_bound=datetime.datetime(2021, 1, 12, 0, 0), upper_bound=datetime.datetime(2023, 8, 20, 0, 0)), event_time=Row(column_size=390807, value_count=89391, null_value_count=0, nan_value_count=None, lower_bound=datetime.datetime(2021, 1, 12, 0, 1, 19, 764000), upper_bound=datetime.datetime(2023, 8, 20, 23, 59, 41, 89000)), host=Row(column_size=2692, value_count=89391, null_value_count=0, nan_value_count=None, lower_bound=&#x27;aashish.techcrea&#x27;, upper_bound=&#x27;zachwilson.techd&#x27;), referrer=Row(column_size=68783, value_count=89391, null_value_count=46359, nan_value_count=None, lower_bound=&#x27;52.20.78.240&#x27;, upper_bound=&#x27;zachwilson.tech&#x27;), url=Row(column_size=111534, value_count=89391, null_value_count=0, nan_value_count=None, lower_bound=&#x27;/&#x27;, upper_bound=&#x27;/zzageqnf.php?Fp&#x27;), user_id=Row(column_size=315050, value_count=89391, null_value_count=1, nan_value_count=None, lower_bound=&#x27;-1000095488&#x27;, upper_bound=&#x27;999884938&#x27;))</td>\n",
       "        </tr>\n",
       "        <tr>\n",
       "            <td>0</td>\n",
       "            <td>s3://warehouse/bootcamp/events_sorted/data/00001-11-94aba8e8-72f1-4864-97e8-9887c5dfdf65-0-00001.parquet</td>\n",
       "            <td>PARQUET</td>\n",
       "            <td>1</td>\n",
       "            <td>Row(event_date_year=None)</td>\n",
       "            <td>99232</td>\n",
       "            <td>1127095</td>\n",
       "            <td>{1: 145867, 2: 73774, 6: 3312, 7: 435876, 8: 2373, 9: 344946, 10: 117107}</td>\n",
       "            <td>{1: 99232, 2: 99232, 6: 99232, 7: 99232, 8: 99232, 9: 99232, 10: 99232}</td>\n",
       "            <td>{1: 0, 2: 49299, 6: 0, 7: 0, 8: 0, 9: 58, 10: 0}</td>\n",
       "            <td>{}</td>\n",
       "            <td>{1: bytearray(b&#x27;&quot;/?&quot;&quot;&lt;?=print(93&#x27;), 2: bytearray(b&#x27;&quot;https://www.goo&#x27;), 6: bytearray(b&#x27;abhishekanand.te&#x27;), 7: bytearray(b&#x27;(\\x83\\xb2EX\\xb8\\x05\\x00&#x27;), 8: bytearray(b&#x27;\\x00 \\xc9&lt;X\\xb8\\x05\\x00&#x27;), 9: bytearray(b&#x27;-1000370060&#x27;), 10: bytearray(b&#x27;-100210680&#x27;)}</td>\n",
       "            <td>{1: bytearray(b&#x27;/zz.php&#x27;), 2: bytearray(b&#x27;zachwilson.tech&#x27;), 6: bytearray(b&#x27;zsavi524.techcrf&#x27;), 7: bytearray(b&#x27;\\x88\\xb8\\x07P;\\x03\\x06\\x00&#x27;), 8: bytearray(b&quot;\\x00 \\xb65\\&#x27;\\x03\\x06\\x00&quot;), 9: bytearray(b&#x27;999956796&#x27;), 10: bytearray(b&#x27;999535123&#x27;)}</td>\n",
       "            <td>None</td>\n",
       "            <td>[4]</td>\n",
       "            <td>None</td>\n",
       "            <td>0</td>\n",
       "            <td>None</td>\n",
       "            <td>None</td>\n",
       "            <td>None</td>\n",
       "            <td>Row(device_id=Row(column_size=117107, value_count=99232, null_value_count=0, nan_value_count=None, lower_bound=&#x27;-100210680&#x27;, upper_bound=&#x27;999535123&#x27;), event_date=Row(column_size=2373, value_count=99232, null_value_count=0, nan_value_count=None, lower_bound=datetime.datetime(2021, 1, 8, 0, 0), upper_bound=datetime.datetime(2023, 8, 18, 0, 0)), event_time=Row(column_size=435876, value_count=99232, null_value_count=0, nan_value_count=None, lower_bound=datetime.datetime(2021, 1, 8, 0, 2, 29, 513000), upper_bound=datetime.datetime(2023, 8, 18, 23, 59, 0, 901000)), host=Row(column_size=3312, value_count=99232, null_value_count=0, nan_value_count=None, lower_bound=&#x27;abhishekanand.te&#x27;, upper_bound=&#x27;zsavi524.techcrf&#x27;), referrer=Row(column_size=73774, value_count=99232, null_value_count=49299, nan_value_count=None, lower_bound=&#x27;&quot;https://www.goo&#x27;, upper_bound=&#x27;zachwilson.tech&#x27;), url=Row(column_size=145867, value_count=99232, null_value_count=0, nan_value_count=None, lower_bound=&#x27;&quot;/?&quot;&quot;&lt;?=print(93&#x27;, upper_bound=&#x27;/zz.php&#x27;), user_id=Row(column_size=344946, value_count=99232, null_value_count=58, nan_value_count=None, lower_bound=&#x27;-1000370060&#x27;, upper_bound=&#x27;999956796&#x27;))</td>\n",
       "        </tr>\n",
       "        <tr>\n",
       "            <td>0</td>\n",
       "            <td>s3://warehouse/bootcamp/events_sorted/data/00002-12-94aba8e8-72f1-4864-97e8-9887c5dfdf65-0-00001.parquet</td>\n",
       "            <td>PARQUET</td>\n",
       "            <td>1</td>\n",
       "            <td>Row(event_date_year=None)</td>\n",
       "            <td>93956</td>\n",
       "            <td>1322343</td>\n",
       "            <td>{1: 351348, 2: 94536, 6: 3129, 7: 408592, 8: 2037, 9: 343519, 10: 115411}</td>\n",
       "            <td>{1: 93956, 2: 93956, 6: 93956, 7: 93956, 8: 93956, 9: 93956, 10: 93956}</td>\n",
       "            <td>{1: 0, 2: 48227, 6: 0, 7: 0, 8: 0, 9: 0, 10: 0}</td>\n",
       "            <td>{}</td>\n",
       "            <td>{1: bytearray(b&#x27;&quot;/?&quot;&quot;&lt;?=print(93&#x27;), 2: bytearray(b&#x27;&quot;https://www.goo&#x27;), 6: bytearray(b&#x27;ablumhardt.techc&#x27;), 7: bytearray(b&#x27;\\x18\\xe8_\\xb2\\xf3\\xb7\\x05\\x00&#x27;), 8: bytearray(b&#x27;\\x00@\\x94\\xa7\\xf3\\xb7\\x05\\x00&#x27;), 9: bytearray(b&#x27;-1000675882&#x27;), 10: bytearray(b&#x27;-1000866068&#x27;)}</td>\n",
       "            <td>{1: bytearray(b&#x27;/zz/address.php@&#x27;), 2: bytearray(b&#x27;zachwilson.tech&#x27;), 6: bytearray(b&#x27;zzz.techcreator/&#x27;), 7: bytearray(b&#x27;HE\\xdbM\\xb3\\x03\\x06\\x00&#x27;), 8: bytearray(b&#x27;\\x00`\\xc2\\xe8\\x9f\\x03\\x06\\x00&#x27;), 9: bytearray(b&#x27;999956796&#x27;), 10: bytearray(b&#x27;998961543&#x27;)}</td>\n",
       "            <td>None</td>\n",
       "            <td>[4]</td>\n",
       "            <td>None</td>\n",
       "            <td>0</td>\n",
       "            <td>None</td>\n",
       "            <td>None</td>\n",
       "            <td>None</td>\n",
       "            <td>Row(device_id=Row(column_size=115411, value_count=93956, null_value_count=0, nan_value_count=None, lower_bound=&#x27;-1000866068&#x27;, upper_bound=&#x27;998961543&#x27;), event_date=Row(column_size=2037, value_count=93956, null_value_count=0, nan_value_count=None, lower_bound=datetime.datetime(2021, 1, 3, 0, 0), upper_bound=datetime.datetime(2023, 8, 24, 0, 0)), event_time=Row(column_size=408592, value_count=93956, null_value_count=0, nan_value_count=None, lower_bound=datetime.datetime(2021, 1, 3, 0, 3, 1, 119000), upper_bound=datetime.datetime(2023, 8, 24, 23, 8, 20, 509000)), host=Row(column_size=3129, value_count=93956, null_value_count=0, nan_value_count=None, lower_bound=&#x27;ablumhardt.techc&#x27;, upper_bound=&#x27;zzz.techcreator/&#x27;), referrer=Row(column_size=94536, value_count=93956, null_value_count=48227, nan_value_count=None, lower_bound=&#x27;&quot;https://www.goo&#x27;, upper_bound=&#x27;zachwilson.tech&#x27;), url=Row(column_size=351348, value_count=93956, null_value_count=0, nan_value_count=None, lower_bound=&#x27;&quot;/?&quot;&quot;&lt;?=print(93&#x27;, upper_bound=&#x27;/zz/address.php@&#x27;), user_id=Row(column_size=343519, value_count=93956, null_value_count=0, nan_value_count=None, lower_bound=&#x27;-1000675882&#x27;, upper_bound=&#x27;999956796&#x27;))</td>\n",
       "        </tr>\n",
       "        <tr>\n",
       "            <td>0</td>\n",
       "            <td>s3://warehouse/bootcamp/events_sorted/data/00003-13-94aba8e8-72f1-4864-97e8-9887c5dfdf65-0-00001.parquet</td>\n",
       "            <td>PARQUET</td>\n",
       "            <td>1</td>\n",
       "            <td>Row(event_date_year=None)</td>\n",
       "            <td>122235</td>\n",
       "            <td>1509917</td>\n",
       "            <td>{1: 290081, 2: 98630, 6: 3575, 7: 512137, 8: 2178, 9: 450943, 10: 148158}</td>\n",
       "            <td>{1: 122235, 2: 122235, 6: 122235, 7: 122235, 8: 122235, 9: 122235, 10: 122235}</td>\n",
       "            <td>{1: 0, 2: 53009, 6: 0, 7: 0, 8: 0, 9: 8, 10: 0}</td>\n",
       "            <td>{}</td>\n",
       "            <td>{1: bytearray(b&#x27;/&#x27;), 2: bytearray(b&#x27;3.220.57.224&#x27;), 6: bytearray(b&#x27;accc.techcreator&#x27;), 7: bytearray(b&#x27;@n.\\xbd\\xdf\\xb7\\x05\\x00&#x27;), 8: bytearray(b&#x27;\\x00\\xe0\\xbc\\x89\\xdf\\xb7\\x05\\x00&#x27;), 9: bytearray(b&#x27;-1000015881&#x27;), 10: bytearray(b&#x27;-1001669954&#x27;)}</td>\n",
       "            <td>{1: bytearray(b&#x27;/zz.php&#x27;), 2: bytearray(b&#x27;zachwilson.tech&#x27;), 6: bytearray(b&#x27;zachwilson.techd&#x27;), 7: bytearray(b&#x27;\\xd8\\xaf\\x9a\\xe8\\x9f\\x03\\x06\\x00&#x27;), 8: bytearray(b&#x27;\\x00\\x00\\xeb\\xca\\x8b\\x03\\x06\\x00&#x27;), 9: bytearray(b&#x27;999882344&#x27;), 10: bytearray(b&#x27;998766634&#x27;)}</td>\n",
       "            <td>None</td>\n",
       "            <td>[4]</td>\n",
       "            <td>None</td>\n",
       "            <td>0</td>\n",
       "            <td>None</td>\n",
       "            <td>None</td>\n",
       "            <td>None</td>\n",
       "            <td>Row(device_id=Row(column_size=148158, value_count=122235, null_value_count=0, nan_value_count=None, lower_bound=&#x27;-1001669954&#x27;, upper_bound=&#x27;998766634&#x27;), event_date=Row(column_size=2178, value_count=122235, null_value_count=0, nan_value_count=None, lower_bound=datetime.datetime(2021, 1, 2, 0, 0), upper_bound=datetime.datetime(2023, 8, 23, 0, 0)), event_time=Row(column_size=512137, value_count=122235, null_value_count=0, nan_value_count=None, lower_bound=datetime.datetime(2021, 1, 2, 0, 14, 23, 80000), upper_bound=datetime.datetime(2023, 8, 23, 23, 59, 57, 399000)), host=Row(column_size=3575, value_count=122235, null_value_count=0, nan_value_count=None, lower_bound=&#x27;accc.techcreator&#x27;, upper_bound=&#x27;zachwilson.techd&#x27;), referrer=Row(column_size=98630, value_count=122235, null_value_count=53009, nan_value_count=None, lower_bound=&#x27;3.220.57.224&#x27;, upper_bound=&#x27;zachwilson.tech&#x27;), url=Row(column_size=290081, value_count=122235, null_value_count=0, nan_value_count=None, lower_bound=&#x27;/&#x27;, upper_bound=&#x27;/zz.php&#x27;), user_id=Row(column_size=450943, value_count=122235, null_value_count=8, nan_value_count=None, lower_bound=&#x27;-1000015881&#x27;, upper_bound=&#x27;999882344&#x27;))</td>\n",
       "        </tr>\n",
       "    </tbody>\n",
       "</table>"
      ],
      "text/plain": [
       "+---------+----------------------------------------------------------------------------------------------------------+-------------+---------+---------------------------+--------------+--------------------+---------------------------------------------------------------------------+--------------------------------------------------------------------------------+--------------------------------------------------+------------------+------------------------------------------------------------------------------------------------------------------------------------------------------------------------------------------------------------------------------------------------------------------------+----------------------------------------------------------------------------------------------------------------------------------------------------------------------------------------------------------------------------------------------------------------+--------------+---------------+--------------+---------------+----------------------+----------------+-----------------------+-----------------------------------------------------------------------------------------------------------------------------------------------------------------------------------------------------------------------------------------------------------------------------------------------------------------------------------------------------------------------------------------------------------------------------------------------------------------------------------------------------------------------------------------------------------------------------------------------------------------------------------------------------------------------------------------------------------------------------------------------------------------------------------------------------------------------------------------------------------------------------------------------------------------------------------------------------------------------------------------------------------------------------------------------------------------------------------------------------------------------------------------------------------------------------------------------------------------------------+\n",
       "| content |                                                                                                file_path | file_format | spec_id |                 partition | record_count | file_size_in_bytes |                                                              column_sizes |                                                                   value_counts |                                null_value_counts | nan_value_counts |                                                                                                                                                                                                                                                           lower_bounds |                                                                                                                                                                                                                                                   upper_bounds | key_metadata | split_offsets | equality_ids | sort_order_id | referenced_data_file | content_offset | content_size_in_bytes |                                                                                                                                                                                                                                                                                                                                                                                                                                                                                                                                                                                                                                                                                                                                                                                                                                                                                                                                                                                                                                                                                                                                                                                                            readable_metrics |\n",
       "+---------+----------------------------------------------------------------------------------------------------------+-------------+---------+---------------------------+--------------+--------------------+---------------------------------------------------------------------------+--------------------------------------------------------------------------------+--------------------------------------------------+------------------+------------------------------------------------------------------------------------------------------------------------------------------------------------------------------------------------------------------------------------------------------------------------+----------------------------------------------------------------------------------------------------------------------------------------------------------------------------------------------------------------------------------------------------------------+--------------+---------------+--------------+---------------+----------------------+----------------+-----------------------+-----------------------------------------------------------------------------------------------------------------------------------------------------------------------------------------------------------------------------------------------------------------------------------------------------------------------------------------------------------------------------------------------------------------------------------------------------------------------------------------------------------------------------------------------------------------------------------------------------------------------------------------------------------------------------------------------------------------------------------------------------------------------------------------------------------------------------------------------------------------------------------------------------------------------------------------------------------------------------------------------------------------------------------------------------------------------------------------------------------------------------------------------------------------------------------------------------------------------------+\n",
       "|       0 | s3://warehouse/bootcamp/events_sorted/data/00000-10-94aba8e8-72f1-4864-97e8-9887c5dfdf65-0-00001.parquet |     PARQUET |       1 | Row(event_date_year=None) |        89391 |             998667 | {1: 111534, 2: 68783, 6: 2692, 7: 390807, 8: 2293, 9: 315050, 10: 103875} |        {1: 89391, 2: 89391, 6: 89391, 7: 89391, 8: 89391, 9: 89391, 10: 89391} |  {1: 0, 2: 46359, 6: 0, 7: 0, 8: 0, 9: 1, 10: 0} |               {} |                     {1: bytearray(b'/'), 2: bytearray(b'52.20.78.240'), 6: bytearray(b'aashish.techcrea'), 7: bytearray(b' \\xba\\xe7\\xb8\\xa8\\xb8\\x05\\x00'), 8: bytearray(b'\\x00\\xa0&\\xb4\\xa8\\xb8\\x05\\x00'), 9: bytearray(b'-1000095488'), 10: bytearray(b'-100210680')} |    {1: bytearray(b'/zzageqnf.php?Fp'), 2: bytearray(b'zachwilson.tech'), 6: bytearray(b'zachwilson.techd'), 7: bytearray(b'\\xe8\\xb0\\x1b\\x8ec\\x03\\x06\\x00'), 8: bytearray(b'\\x00\\xe0dqO\\x03\\x06\\x00'), 9: bytearray(b'999884938'), 10: bytearray(b'999535123')} |         None |           [4] |         None |             0 |                 None |           None |                  None |                  Row(device_id=Row(column_size=103875, value_count=89391, null_value_count=0, nan_value_count=None, lower_bound='-100210680', upper_bound='999535123'), event_date=Row(column_size=2293, value_count=89391, null_value_count=0, nan_value_count=None, lower_bound=datetime.datetime(2021, 1, 12, 0, 0), upper_bound=datetime.datetime(2023, 8, 20, 0, 0)), event_time=Row(column_size=390807, value_count=89391, null_value_count=0, nan_value_count=None, lower_bound=datetime.datetime(2021, 1, 12, 0, 1, 19, 764000), upper_bound=datetime.datetime(2023, 8, 20, 23, 59, 41, 89000)), host=Row(column_size=2692, value_count=89391, null_value_count=0, nan_value_count=None, lower_bound='aashish.techcrea', upper_bound='zachwilson.techd'), referrer=Row(column_size=68783, value_count=89391, null_value_count=46359, nan_value_count=None, lower_bound='52.20.78.240', upper_bound='zachwilson.tech'), url=Row(column_size=111534, value_count=89391, null_value_count=0, nan_value_count=None, lower_bound='/', upper_bound='/zzageqnf.php?Fp'), user_id=Row(column_size=315050, value_count=89391, null_value_count=1, nan_value_count=None, lower_bound='-1000095488', upper_bound='999884938')) |\n",
       "|       0 | s3://warehouse/bootcamp/events_sorted/data/00001-11-94aba8e8-72f1-4864-97e8-9887c5dfdf65-0-00001.parquet |     PARQUET |       1 | Row(event_date_year=None) |        99232 |            1127095 | {1: 145867, 2: 73774, 6: 3312, 7: 435876, 8: 2373, 9: 344946, 10: 117107} |        {1: 99232, 2: 99232, 6: 99232, 7: 99232, 8: 99232, 9: 99232, 10: 99232} | {1: 0, 2: 49299, 6: 0, 7: 0, 8: 0, 9: 58, 10: 0} |               {} |              {1: bytearray(b'\"/?\"\"<?=print(93'), 2: bytearray(b'\"https://www.goo'), 6: bytearray(b'abhishekanand.te'), 7: bytearray(b'(\\x83\\xb2EX\\xb8\\x05\\x00'), 8: bytearray(b'\\x00 \\xc9<X\\xb8\\x05\\x00'), 9: bytearray(b'-1000370060'), 10: bytearray(b'-100210680')} |               {1: bytearray(b'/zz.php'), 2: bytearray(b'zachwilson.tech'), 6: bytearray(b'zsavi524.techcrf'), 7: bytearray(b'\\x88\\xb8\\x07P;\\x03\\x06\\x00'), 8: bytearray(b\"\\x00 \\xb65\\'\\x03\\x06\\x00\"), 9: bytearray(b'999956796'), 10: bytearray(b'999535123')} |         None |           [4] |         None |             0 |                 None |           None |                  None |         Row(device_id=Row(column_size=117107, value_count=99232, null_value_count=0, nan_value_count=None, lower_bound='-100210680', upper_bound='999535123'), event_date=Row(column_size=2373, value_count=99232, null_value_count=0, nan_value_count=None, lower_bound=datetime.datetime(2021, 1, 8, 0, 0), upper_bound=datetime.datetime(2023, 8, 18, 0, 0)), event_time=Row(column_size=435876, value_count=99232, null_value_count=0, nan_value_count=None, lower_bound=datetime.datetime(2021, 1, 8, 0, 2, 29, 513000), upper_bound=datetime.datetime(2023, 8, 18, 23, 59, 0, 901000)), host=Row(column_size=3312, value_count=99232, null_value_count=0, nan_value_count=None, lower_bound='abhishekanand.te', upper_bound='zsavi524.techcrf'), referrer=Row(column_size=73774, value_count=99232, null_value_count=49299, nan_value_count=None, lower_bound='\"https://www.goo', upper_bound='zachwilson.tech'), url=Row(column_size=145867, value_count=99232, null_value_count=0, nan_value_count=None, lower_bound='\"/?\"\"<?=print(93', upper_bound='/zz.php'), user_id=Row(column_size=344946, value_count=99232, null_value_count=58, nan_value_count=None, lower_bound='-1000370060', upper_bound='999956796')) |\n",
       "|       0 | s3://warehouse/bootcamp/events_sorted/data/00002-12-94aba8e8-72f1-4864-97e8-9887c5dfdf65-0-00001.parquet |     PARQUET |       1 | Row(event_date_year=None) |        93956 |            1322343 | {1: 351348, 2: 94536, 6: 3129, 7: 408592, 8: 2037, 9: 343519, 10: 115411} |        {1: 93956, 2: 93956, 6: 93956, 7: 93956, 8: 93956, 9: 93956, 10: 93956} |  {1: 0, 2: 48227, 6: 0, 7: 0, 8: 0, 9: 0, 10: 0} |               {} | {1: bytearray(b'\"/?\"\"<?=print(93'), 2: bytearray(b'\"https://www.goo'), 6: bytearray(b'ablumhardt.techc'), 7: bytearray(b'\\x18\\xe8_\\xb2\\xf3\\xb7\\x05\\x00'), 8: bytearray(b'\\x00@\\x94\\xa7\\xf3\\xb7\\x05\\x00'), 9: bytearray(b'-1000675882'), 10: bytearray(b'-1000866068')} |    {1: bytearray(b'/zz/address.php@'), 2: bytearray(b'zachwilson.tech'), 6: bytearray(b'zzz.techcreator/'), 7: bytearray(b'HE\\xdbM\\xb3\\x03\\x06\\x00'), 8: bytearray(b'\\x00`\\xc2\\xe8\\x9f\\x03\\x06\\x00'), 9: bytearray(b'999956796'), 10: bytearray(b'998961543')} |         None |           [4] |         None |             0 |                 None |           None |                  None | Row(device_id=Row(column_size=115411, value_count=93956, null_value_count=0, nan_value_count=None, lower_bound='-1000866068', upper_bound='998961543'), event_date=Row(column_size=2037, value_count=93956, null_value_count=0, nan_value_count=None, lower_bound=datetime.datetime(2021, 1, 3, 0, 0), upper_bound=datetime.datetime(2023, 8, 24, 0, 0)), event_time=Row(column_size=408592, value_count=93956, null_value_count=0, nan_value_count=None, lower_bound=datetime.datetime(2021, 1, 3, 0, 3, 1, 119000), upper_bound=datetime.datetime(2023, 8, 24, 23, 8, 20, 509000)), host=Row(column_size=3129, value_count=93956, null_value_count=0, nan_value_count=None, lower_bound='ablumhardt.techc', upper_bound='zzz.techcreator/'), referrer=Row(column_size=94536, value_count=93956, null_value_count=48227, nan_value_count=None, lower_bound='\"https://www.goo', upper_bound='zachwilson.tech'), url=Row(column_size=351348, value_count=93956, null_value_count=0, nan_value_count=None, lower_bound='\"/?\"\"<?=print(93', upper_bound='/zz/address.php@'), user_id=Row(column_size=343519, value_count=93956, null_value_count=0, nan_value_count=None, lower_bound='-1000675882', upper_bound='999956796')) |\n",
       "|       0 | s3://warehouse/bootcamp/events_sorted/data/00003-13-94aba8e8-72f1-4864-97e8-9887c5dfdf65-0-00001.parquet |     PARQUET |       1 | Row(event_date_year=None) |       122235 |            1509917 | {1: 290081, 2: 98630, 6: 3575, 7: 512137, 8: 2178, 9: 450943, 10: 148158} | {1: 122235, 2: 122235, 6: 122235, 7: 122235, 8: 122235, 9: 122235, 10: 122235} |  {1: 0, 2: 53009, 6: 0, 7: 0, 8: 0, 9: 8, 10: 0} |               {} |                       {1: bytearray(b'/'), 2: bytearray(b'3.220.57.224'), 6: bytearray(b'accc.techcreator'), 7: bytearray(b'@n.\\xbd\\xdf\\xb7\\x05\\x00'), 8: bytearray(b'\\x00\\xe0\\xbc\\x89\\xdf\\xb7\\x05\\x00'), 9: bytearray(b'-1000015881'), 10: bytearray(b'-1001669954')} | {1: bytearray(b'/zz.php'), 2: bytearray(b'zachwilson.tech'), 6: bytearray(b'zachwilson.techd'), 7: bytearray(b'\\xd8\\xaf\\x9a\\xe8\\x9f\\x03\\x06\\x00'), 8: bytearray(b'\\x00\\x00\\xeb\\xca\\x8b\\x03\\x06\\x00'), 9: bytearray(b'999882344'), 10: bytearray(b'998766634')} |         None |           [4] |         None |             0 |                 None |           None |                  None |                    Row(device_id=Row(column_size=148158, value_count=122235, null_value_count=0, nan_value_count=None, lower_bound='-1001669954', upper_bound='998766634'), event_date=Row(column_size=2178, value_count=122235, null_value_count=0, nan_value_count=None, lower_bound=datetime.datetime(2021, 1, 2, 0, 0), upper_bound=datetime.datetime(2023, 8, 23, 0, 0)), event_time=Row(column_size=512137, value_count=122235, null_value_count=0, nan_value_count=None, lower_bound=datetime.datetime(2021, 1, 2, 0, 14, 23, 80000), upper_bound=datetime.datetime(2023, 8, 23, 23, 59, 57, 399000)), host=Row(column_size=3575, value_count=122235, null_value_count=0, nan_value_count=None, lower_bound='accc.techcreator', upper_bound='zachwilson.techd'), referrer=Row(column_size=98630, value_count=122235, null_value_count=53009, nan_value_count=None, lower_bound='3.220.57.224', upper_bound='zachwilson.tech'), url=Row(column_size=290081, value_count=122235, null_value_count=0, nan_value_count=None, lower_bound='/', upper_bound='/zz.php'), user_id=Row(column_size=450943, value_count=122235, null_value_count=8, nan_value_count=None, lower_bound='-1000015881', upper_bound='999882344')) |\n",
       "+---------+----------------------------------------------------------------------------------------------------------+-------------+---------+---------------------------+--------------+--------------------+---------------------------------------------------------------------------+--------------------------------------------------------------------------------+--------------------------------------------------+------------------+------------------------------------------------------------------------------------------------------------------------------------------------------------------------------------------------------------------------------------------------------------------------+----------------------------------------------------------------------------------------------------------------------------------------------------------------------------------------------------------------------------------------------------------------+--------------+---------------+--------------+---------------+----------------------+----------------+-----------------------+-----------------------------------------------------------------------------------------------------------------------------------------------------------------------------------------------------------------------------------------------------------------------------------------------------------------------------------------------------------------------------------------------------------------------------------------------------------------------------------------------------------------------------------------------------------------------------------------------------------------------------------------------------------------------------------------------------------------------------------------------------------------------------------------------------------------------------------------------------------------------------------------------------------------------------------------------------------------------------------------------------------------------------------------------------------------------------------------------------------------------------------------------------------------------------------------------------------------------------+"
      ]
     },
     "execution_count": 21,
     "metadata": {},
     "output_type": "execute_result"
    }
   ],
   "source": [
    "%%sql\n",
    "\n",
    "SELECT * \n",
    "FROM demo.bootcamp.events_sorted.files"
   ]
  },
  {
   "cell_type": "code",
   "execution_count": 22,
   "id": "d207a11b-b0a4-4662-bbe9-747d8f67be7d",
   "metadata": {},
   "outputs": [
    {
     "data": {
      "text/html": [
       "<table>\n",
       "    <thead>\n",
       "        <tr>\n",
       "            <th>size</th>\n",
       "            <th>num_files</th>\n",
       "            <th>sorted</th>\n",
       "        </tr>\n",
       "    </thead>\n",
       "    <tbody>\n",
       "        <tr>\n",
       "            <td>4958022</td>\n",
       "            <td>4</td>\n",
       "            <td>sorted</td>\n",
       "        </tr>\n",
       "        <tr>\n",
       "            <td>5053371</td>\n",
       "            <td>4</td>\n",
       "            <td>unsorted</td>\n",
       "        </tr>\n",
       "    </tbody>\n",
       "</table>"
      ],
      "text/plain": [
       "+---------+-----------+----------+\n",
       "|    size | num_files |   sorted |\n",
       "+---------+-----------+----------+\n",
       "| 4958022 |         4 |   sorted |\n",
       "| 5053371 |         4 | unsorted |\n",
       "+---------+-----------+----------+"
      ]
     },
     "execution_count": 22,
     "metadata": {},
     "output_type": "execute_result"
    }
   ],
   "source": [
    "%%sql\n",
    "\n",
    "SELECT SUM(file_size_in_bytes) as size, COUNT(1) as num_files, 'sorted' \n",
    "FROM demo.bootcamp.events_sorted.files\n",
    "\n",
    "-- union all junta os conjuntos e elimina as duplicações    \n",
    "UNION ALL\n",
    "SELECT SUM(file_size_in_bytes) as size, COUNT(1) as num_files, 'unsorted' \n",
    "FROM demo.bootcamp.events_unsorted.files\n",
    "\n",
    "\n",
    "\n"
   ]
  },
  {
   "cell_type": "code",
   "execution_count": 24,
   "id": "079ab210-db6d-430c-afe6-b01ee4925103",
   "metadata": {},
   "outputs": [],
   "source": [
    "spark.stop()"
   ]
  },
  {
   "cell_type": "code",
   "execution_count": null,
   "id": "1f9a6de1-1539-4760-85ca-64bce65689b2",
   "metadata": {},
   "outputs": [],
   "source": []
  }
 ],
 "metadata": {
  "kernelspec": {
   "display_name": "Python 3 (ipykernel)",
   "language": "python",
   "name": "python3"
  },
  "language_info": {
   "codemirror_mode": {
    "name": "ipython",
    "version": 3
   },
   "file_extension": ".py",
   "mimetype": "text/x-python",
   "name": "python",
   "nbconvert_exporter": "python",
   "pygments_lexer": "ipython3",
   "version": "3.10.16"
  }
 },
 "nbformat": 4,
 "nbformat_minor": 5
}
