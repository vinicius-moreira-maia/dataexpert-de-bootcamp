{
 "cells": [
  {
   "cell_type": "code",
   "execution_count": 1,
   "id": "5a3d8cd2-f4e1-4365-9014-e39ce04dd4f4",
   "metadata": {},
   "outputs": [],
   "source": [
    "from pyspark.sql import SparkSession\n",
    "from pyspark.sql.functions import broadcast, split, lit\n",
    "\n",
    "spark = SparkSession.builder.getOrCreate()\n",
    "\n",
    "# desabilitando broadcast join automático\n",
    "# \" Disabled automatic broadcast join with `spark.conf.set(\"spark.sql.autoBroadcastJoinThreshold\", \"-1\")` \"\n",
    "spark.conf.set(\"spark.sql.autoBroadcastJoinThreshold\", \"-1\")"
   ]
  },
  {
   "cell_type": "code",
   "execution_count": 2,
   "id": "a3864fe1-ec68-469a-bea5-8951e2ad58c7",
   "metadata": {},
   "outputs": [
    {
     "name": "stderr",
     "output_type": "stream",
     "text": [
      "                                                                                "
     ]
    }
   ],
   "source": [
    "matches = spark.read \\\n",
    "    .option(\"header\", \"true\") \\\n",
    "    .option(\"inferSchema\", \"true\") \\\n",
    "    .csv(\"/home/iceberg/data/matches.csv\")\n",
    "\n",
    "match_details = spark.read \\\n",
    "    .option(\"header\", \"true\") \\\n",
    "    .option(\"inferSchema\", \"true\") \\\n",
    "    .csv(\"/home/iceberg/data/match_details.csv\")\n",
    "\n",
    "medals_matches_players = spark.read \\\n",
    "    .option(\"header\", \"true\") \\\n",
    "    .option(\"inferSchema\", \"true\") \\\n",
    "    .csv(\"/home/iceberg/data/medals_matches_players.csv\")\n",
    "\n",
    "medals = spark.read \\\n",
    "    .option(\"header\", \"true\") \\\n",
    "    .option(\"inferSchema\", \"true\") \\\n",
    "    .csv(\"/home/iceberg/data/medals.csv\")\n",
    "\n",
    "maps = spark.read \\\n",
    "    .option(\"header\", \"true\") \\\n",
    "    .option(\"inferSchema\", \"true\") \\\n",
    "    .csv(\"/home/iceberg/data/maps.csv\")"
   ]
  },
  {
   "cell_type": "code",
   "execution_count": 26,
   "id": "201450e2-454e-4f56-bac7-c9a1b2cfc561",
   "metadata": {},
   "outputs": [],
   "source": [
    "from pyspark.sql.functions import col\n",
    "\n",
    "# join 1\n",
    "maps_matches = maps.join(matches, on=\"mapid\")\n",
    "\n",
    "# join 2\n",
    "\n",
    "# só para evitar ambiguidade\n",
    "medal_matches_players_renamed = medal_matches_players.withColumnRenamed(\"match_id\", \"match_id_2\")\n",
    "\n",
    "maps_with_medal_id = maps_matches.join(\n",
    "    medal_matches_players_renamed,\n",
    "    col(\"match_id\") == col(\"match_id_2\")\n",
    ")\n",
    "\n",
    "# mapid, match_id, match_id_2, medal_id\n",
    "# maps_with_medal_id.show(3)"
   ]
  },
  {
   "cell_type": "code",
   "execution_count": 27,
   "id": "d4b173a4-b2dc-45d3-9105-2976bab746d2",
   "metadata": {},
   "outputs": [
    {
     "name": "stderr",
     "output_type": "stream",
     "text": [
      "                                                                                "
     ]
    },
    {
     "data": {
      "text/plain": [
       "755229"
      ]
     },
     "execution_count": 27,
     "metadata": {},
     "output_type": "execute_result"
    }
   ],
   "source": [
    "# 755.229\n",
    "# maps_with_medal_id.count()\n",
    "\n",
    "# 183\n",
    "# medals.count()\n",
    "\n",
    "# medal_id\n",
    "# medals.show(3)"
   ]
  },
  {
   "cell_type": "code",
   "execution_count": 25,
   "id": "ae6c5372-7eb7-40ce-9a06-c970668190c0",
   "metadata": {},
   "outputs": [
    {
     "name": "stdout",
     "output_type": "stream",
     "text": [
      "root\n",
      " |-- mapid: string (nullable = true)\n",
      " |-- name: string (nullable = true)\n",
      " |-- description: string (nullable = true)\n",
      " |-- match_id: string (nullable = true)\n",
      " |-- is_team_game: boolean (nullable = true)\n",
      " |-- playlist_id: string (nullable = true)\n",
      " |-- game_variant_id: string (nullable = true)\n",
      " |-- is_match_over: boolean (nullable = true)\n",
      " |-- completion_date: timestamp (nullable = true)\n",
      " |-- match_duration: string (nullable = true)\n",
      " |-- game_mode: string (nullable = true)\n",
      " |-- map_variant_id: string (nullable = true)\n",
      " |-- match_id_2: string (nullable = true)\n",
      " |-- player_gamertag: string (nullable = true)\n",
      " |-- medal_id: long (nullable = true)\n",
      " |-- count: integer (nullable = true)\n",
      "\n"
     ]
    }
   ],
   "source": [
    "maps_with_medal_id.printSchema()"
   ]
  },
  {
   "cell_type": "code",
   "execution_count": 30,
   "id": "8a8351d2-c965-483f-ba98-6a3f38fe39cc",
   "metadata": {},
   "outputs": [
    {
     "name": "stderr",
     "output_type": "stream",
     "text": [
      "                                                                                "
     ]
    }
   ],
   "source": [
    "spark.sql(\"\"\"\n",
    "    CREATE DATABASE IF NOT EXISTS bootcamp\n",
    "\"\"\")\n",
    "\n",
    "# tabela de staging que faz a junção de maps, matches e medal_matches_players\n",
    "spark.sql(\"\"\"\n",
    "    CREATE TABLE IF NOT EXISTS bootcamp.stg_maps_medals (\n",
    "        mapid STRING,\n",
    "        name STRING,\n",
    "        description STRING,\n",
    "        match_id STRING,\n",
    "        is_team_game BOOLEAN,\n",
    "        playlist_id STRING,\n",
    "        game_variant_id STRING,\n",
    "        is_match_over BOOLEAN,\n",
    "        completion_date TIMESTAMP,\n",
    "        match_duration STRING,\n",
    "        game_mode STRING,\n",
    "        map_variant_id STRING,\n",
    "        match_id_2 STRING,\n",
    "        player_gamertag STRING,\n",
    "        medal_id BIGINT,\n",
    "        count INT\n",
    "    )\n",
    "    USING ICEBERG\n",
    "\"\"\")\n",
    "\n",
    "maps_with_medal_id.writeTo(\"bootcamp.stg_maps_medals\").append()"
   ]
  },
  {
   "cell_type": "code",
   "execution_count": 31,
   "id": "a097a79c-6785-45ad-8523-0c90f7a5c940",
   "metadata": {},
   "outputs": [
    {
     "name": "stdout",
     "output_type": "stream",
     "text": [
      "== Physical Plan ==\n",
      "AdaptiveSparkPlan isFinalPlan=false\n",
      "+- Project [medal_id#1238L, mapid#1224, name#1225, description#1226, match_id#1227, is_team_game#1228, playlist_id#1229, game_variant_id#1230, is_match_over#1231, completion_date#1232, match_duration#1233, game_mode#1234, map_variant_id#1235, match_id_2#1236, player_gamertag#1237, count#1239, sprite_uri#169, sprite_left#170, sprite_top#171, sprite_sheet_width#172, sprite_sheet_height#173, sprite_width#174, sprite_height#175, classification#176, ... 3 more fields]\n",
      "   +- BroadcastHashJoin [medal_id#1238L], [medal_id#168L], Inner, BuildRight, false\n",
      "      :- Filter isnotnull(medal_id#1238L)\n",
      "      :  +- BatchScan demo.bootcamp.stg_maps_medals[mapid#1224, name#1225, description#1226, match_id#1227, is_team_game#1228, playlist_id#1229, game_variant_id#1230, is_match_over#1231, completion_date#1232, match_duration#1233, game_mode#1234, map_variant_id#1235, match_id_2#1236, player_gamertag#1237, medal_id#1238L, count#1239] demo.bootcamp.stg_maps_medals (branch=null) [filters=medal_id IS NOT NULL, groupedBy=] RuntimeFilters: []\n",
      "      +- BroadcastExchange HashedRelationBroadcastMode(List(input[0, bigint, false]),false), [plan_id=2598]\n",
      "         +- Filter isnotnull(medal_id#168L)\n",
      "            +- FileScan csv [medal_id#168L,sprite_uri#169,sprite_left#170,sprite_top#171,sprite_sheet_width#172,sprite_sheet_height#173,sprite_width#174,sprite_height#175,classification#176,description#177,name#178,difficulty#179] Batched: false, DataFilters: [isnotnull(medal_id#168L)], Format: CSV, Location: InMemoryFileIndex(1 paths)[file:/home/iceberg/data/medals.csv], PartitionFilters: [], PushedFilters: [IsNotNull(medal_id)], ReadSchema: struct<medal_id:bigint,sprite_uri:string,sprite_left:int,sprite_top:int,sprite_sheet_width:int,sp...\n",
      "\n",
      "\n",
      "== Physical Plan ==\n",
      "AdaptiveSparkPlan isFinalPlan=false\n",
      "+- Project [medal_id#1238L, mapid#1224, name#1225, description#1226, match_id#1227, is_team_game#1228, playlist_id#1229, game_variant_id#1230, is_match_over#1231, completion_date#1232, match_duration#1233, game_mode#1234, map_variant_id#1235, match_id_2#1236, player_gamertag#1237, count#1239, sprite_uri#169, sprite_left#170, sprite_top#171, sprite_sheet_width#172, sprite_sheet_height#173, sprite_width#174, sprite_height#175, classification#176, ... 3 more fields]\n",
      "   +- SortMergeJoin [medal_id#1238L], [medal_id#168L], Inner\n",
      "      :- Sort [medal_id#1238L ASC NULLS FIRST], false, 0\n",
      "      :  +- Exchange hashpartitioning(medal_id#1238L, 200), ENSURE_REQUIREMENTS, [plan_id=2628]\n",
      "      :     +- Filter isnotnull(medal_id#1238L)\n",
      "      :        +- BatchScan demo.bootcamp.stg_maps_medals[mapid#1224, name#1225, description#1226, match_id#1227, is_team_game#1228, playlist_id#1229, game_variant_id#1230, is_match_over#1231, completion_date#1232, match_duration#1233, game_mode#1234, map_variant_id#1235, match_id_2#1236, player_gamertag#1237, medal_id#1238L, count#1239] demo.bootcamp.stg_maps_medals (branch=null) [filters=medal_id IS NOT NULL, groupedBy=] RuntimeFilters: []\n",
      "      +- Sort [medal_id#168L ASC NULLS FIRST], false, 0\n",
      "         +- Exchange hashpartitioning(medal_id#168L, 200), ENSURE_REQUIREMENTS, [plan_id=2629]\n",
      "            +- Filter isnotnull(medal_id#168L)\n",
      "               +- FileScan csv [medal_id#168L,sprite_uri#169,sprite_left#170,sprite_top#171,sprite_sheet_width#172,sprite_sheet_height#173,sprite_width#174,sprite_height#175,classification#176,description#177,name#178,difficulty#179] Batched: false, DataFilters: [isnotnull(medal_id#168L)], Format: CSV, Location: InMemoryFileIndex(1 paths)[file:/home/iceberg/data/medals.csv], PartitionFilters: [], PushedFilters: [IsNotNull(medal_id)], ReadSchema: struct<medal_id:bigint,sprite_uri:string,sprite_left:int,sprite_top:int,sprite_sheet_width:int,sp...\n",
      "\n",
      "\n"
     ]
    }
   ],
   "source": [
    "# \"Explicitly broadcast JOINs `medals` and `maps`\"\n",
    "\n",
    "'''\n",
    "Foi preciso fazer muitos joins para unir a tabela 'maps' com a chave 'medal_id'.\n",
    "O resultado de todos esses joins foi persistido na tabela de staging 'bootcamp.stg_maps_medals'\n",
    "'''\n",
    "\n",
    "stg_maps_medals_matches = spark.read.table(\"bootcamp.stg_maps_medals\")\n",
    "\n",
    "# checando os planos de execução com e sem broadcast join\n",
    "stg_maps_medals_matches.join(broadcast(medals), on = \"medal_id\").explain()\n",
    "stg_maps_medals_matches.join(medals, on = \"medal_id\").explain()"
   ]
  },
  {
   "cell_type": "code",
   "execution_count": 32,
   "id": "90b4e2f6-5b97-4940-b793-a8c473229ec9",
   "metadata": {},
   "outputs": [],
   "source": [
    "spark.stop()"
   ]
  },
  {
   "cell_type": "code",
   "execution_count": null,
   "id": "ff13919e-8001-45f0-88d8-4d69414456a5",
   "metadata": {},
   "outputs": [],
   "source": []
  }
 ],
 "metadata": {
  "kernelspec": {
   "display_name": "Python 3 (ipykernel)",
   "language": "python",
   "name": "python3"
  },
  "language_info": {
   "codemirror_mode": {
    "name": "ipython",
    "version": 3
   },
   "file_extension": ".py",
   "mimetype": "text/x-python",
   "name": "python",
   "nbconvert_exporter": "python",
   "pygments_lexer": "ipython3",
   "version": "3.10.16"
  }
 },
 "nbformat": 4,
 "nbformat_minor": 5
}
